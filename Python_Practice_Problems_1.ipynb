{
  "nbformat": 4,
  "nbformat_minor": 0,
  "metadata": {
    "colab": {
      "provenance": []
    },
    "kernelspec": {
      "name": "python3",
      "display_name": "Python 3"
    },
    "language_info": {
      "name": "python"
    }
  },
  "cells": [
    {
      "cell_type": "code",
      "execution_count": null,
      "metadata": {
        "colab": {
          "base_uri": "https://localhost:8080/"
        },
        "id": "k8EBBsqbtOiW",
        "outputId": "77baeb2d-abbf-4761-b406-8d561e1f24f3"
      },
      "outputs": [
        {
          "output_type": "stream",
          "name": "stdout",
          "text": [
            "Enter the radius 5\n",
            "Area of circle is  78.5\n"
          ]
        }
      ],
      "source": [
        "#QN1\n",
        "r=float(input('Enter the radius '))\n",
        "print('Area of circle is ',3.14*(r**2))"
      ]
    },
    {
      "cell_type": "code",
      "source": [
        "#QN2\n",
        "name = input('Enter the name:')\n",
        "roll = int(input('Enter the roll number:'))\n",
        "mark = int(input('Enter the mark:'))\n",
        "\n",
        "print('Name: ', name)\n",
        "print('Roll No: ', roll)\n",
        "print('Mark: ',mark)"
      ],
      "metadata": {
        "colab": {
          "base_uri": "https://localhost:8080/"
        },
        "id": "mct01nXYvkcA",
        "outputId": "63c8343c-94be-4853-b876-4a2485d1b851"
      },
      "execution_count": null,
      "outputs": [
        {
          "output_type": "stream",
          "name": "stdout",
          "text": [
            "Enter the name:AB\n",
            "Enter the roll number:12\n",
            "Enter the mark:85\n",
            "Name:  AB\n",
            "Roll No:  12\n",
            "Mark:  85\n"
          ]
        }
      ]
    },
    {
      "cell_type": "code",
      "source": [
        "#QN3\n",
        "a= [12,3,47,10]\n",
        "large=0\n",
        "for i in a:\n",
        "  if(i>large):\n",
        "    large=i\n",
        "\n",
        "print (large,' is the largest number')"
      ],
      "metadata": {
        "colab": {
          "base_uri": "https://localhost:8080/"
        },
        "id": "zujQHSpqwPEG",
        "outputId": "4babe2ca-23eb-4c79-cfe3-dfa0b4124657"
      },
      "execution_count": null,
      "outputs": [
        {
          "output_type": "stream",
          "name": "stdout",
          "text": [
            "47  is the largest number\n"
          ]
        }
      ]
    },
    {
      "cell_type": "code",
      "source": [
        "#QN4\n",
        "for curr in range (1,11):\n",
        "  prev = curr-1\n",
        "  total=prev+curr\n",
        "  print('Current Number ',curr,' Previous Number ', prev,'Sum : ',total)\n",
        "  prev = curr\n",
        "  curr+=1"
      ],
      "metadata": {
        "colab": {
          "base_uri": "https://localhost:8080/"
        },
        "id": "KL4TS_ZuwwuG",
        "outputId": "f6c542dd-306c-4843-e89a-b5f2192f2d43"
      },
      "execution_count": null,
      "outputs": [
        {
          "output_type": "stream",
          "name": "stdout",
          "text": [
            "Current Number  1  Previous Number  0 Sum :  1\n",
            "Current Number  2  Previous Number  1 Sum :  3\n",
            "Current Number  3  Previous Number  2 Sum :  5\n",
            "Current Number  4  Previous Number  3 Sum :  7\n",
            "Current Number  5  Previous Number  4 Sum :  9\n",
            "Current Number  6  Previous Number  5 Sum :  11\n",
            "Current Number  7  Previous Number  6 Sum :  13\n",
            "Current Number  8  Previous Number  7 Sum :  15\n",
            "Current Number  9  Previous Number  8 Sum :  17\n",
            "Current Number  10  Previous Number  9 Sum :  19\n"
          ]
        }
      ]
    },
    {
      "cell_type": "code",
      "source": [
        "#QN5\n",
        "a=[10, 20,33,46,55]\n",
        "five=[]\n",
        "while len(a)>0:\n",
        "  num = a.pop()\n",
        "  if(num%5==0):\n",
        "    five.append(num)\n",
        "print(sorted(five))\n"
      ],
      "metadata": {
        "colab": {
          "base_uri": "https://localhost:8080/"
        },
        "id": "YEBOCBf_yXvT",
        "outputId": "a3bd24b5-ae64-4f86-8d70-037cf1f54ca6"
      },
      "execution_count": null,
      "outputs": [
        {
          "output_type": "stream",
          "name": "stdout",
          "text": [
            "[10, 20, 55]\n"
          ]
        }
      ]
    },
    {
      "cell_type": "code",
      "source": [
        "#QN6\n",
        "num=int(input('Enter number '))\n",
        "a=0\n",
        "if num>1:\n",
        "  for i in range(2,num+1):\n",
        "    if (num%i==0):\n",
        "      a+=1\n",
        "  if(a!=1):\n",
        "    print(num,\" is not a prime number\")\n",
        "  else:\n",
        "    print(num, \"is a prime number\")\n",
        "else:\n",
        "  print(num, \"is neither prime nor composite number\")\n"
      ],
      "metadata": {
        "colab": {
          "base_uri": "https://localhost:8080/"
        },
        "id": "2-jk-nyhzPqq",
        "outputId": "cef2361b-306b-47ba-fba6-60b055b49922"
      },
      "execution_count": null,
      "outputs": [
        {
          "output_type": "stream",
          "name": "stdout",
          "text": [
            "Enter number 2\n",
            "2 is a prime number\n"
          ]
        }
      ]
    },
    {
      "cell_type": "code",
      "source": [
        "#QN7\n",
        "org =[10,40,30,70]\n",
        "rev =[]\n",
        "for i in range(len(org)-1,-1,-1):\n",
        "  rev.append(org[i])\n",
        "\n",
        "print('Original list is ', org)\n",
        "print('Reveresed list is ', rev)"
      ],
      "metadata": {
        "colab": {
          "base_uri": "https://localhost:8080/"
        },
        "id": "njpBx8q70-u9",
        "outputId": "159a9cbb-6581-43ee-8bc2-97496f530d79"
      },
      "execution_count": null,
      "outputs": [
        {
          "output_type": "stream",
          "name": "stdout",
          "text": [
            "Original list is  [10, 40, 30, 70]\n",
            "Reveresed list is  [70, 30, 40, 10]\n"
          ]
        }
      ]
    },
    {
      "cell_type": "code",
      "source": [
        "#QN8\n",
        "for i in range(1,5):\n",
        "  print('*'*i)"
      ],
      "metadata": {
        "colab": {
          "base_uri": "https://localhost:8080/"
        },
        "id": "l87nkjAL3S9j",
        "outputId": "c9aa3f34-e22f-491c-da07-0c64d16ea158"
      },
      "execution_count": null,
      "outputs": [
        {
          "output_type": "stream",
          "name": "stdout",
          "text": [
            "*\n",
            "**\n",
            "***\n",
            "****\n"
          ]
        }
      ]
    },
    {
      "cell_type": "code",
      "source": [
        "#QN9\n",
        "a=float(input('Enter the first number '))\n",
        "b=float(input('Enter the second number '))\n",
        "c=float(input('Enter the third number '))\n",
        "\n",
        "if (a>b):\n",
        "  if(a>c):\n",
        "    print(a,\" is the largest number\")\n",
        "  else:\n",
        "    print(c,\" is the largest number\")\n",
        "elif(b>c):\n",
        "  print(b,\" is the largest number\")\n",
        "else:\n",
        "  print(c,\" is the largest number\")"
      ],
      "metadata": {
        "colab": {
          "base_uri": "https://localhost:8080/"
        },
        "id": "YCeCiLAN4ZD4",
        "outputId": "23e7a7c3-5c05-4df1-ebe8-db36db2ae7a8"
      },
      "execution_count": null,
      "outputs": [
        {
          "output_type": "stream",
          "name": "stdout",
          "text": [
            "Enter the first number 34\n",
            "Enter the second number 12\n",
            "Enter the third number 7\n",
            "34.0  is the largest number\n"
          ]
        }
      ]
    },
    {
      "cell_type": "code",
      "source": [
        "#QN10\n",
        "for i in range(1,7):\n",
        "  if (i<=5):\n",
        "    print('*'*i)\n",
        "  elif(i>5):\n",
        "    for j in range(4,0,-1):\n",
        "      print('*'*j)"
      ],
      "metadata": {
        "colab": {
          "base_uri": "https://localhost:8080/"
        },
        "id": "55NkHAJ15a8A",
        "outputId": "cfad86fa-d875-477c-d910-3ba752dc8644"
      },
      "execution_count": null,
      "outputs": [
        {
          "output_type": "stream",
          "name": "stdout",
          "text": [
            "*\n",
            "**\n",
            "***\n",
            "****\n",
            "*****\n",
            "****\n",
            "***\n",
            "**\n",
            "*\n"
          ]
        }
      ]
    }
  ]
}