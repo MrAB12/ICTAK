{
  "nbformat": 4,
  "nbformat_minor": 0,
  "metadata": {
    "colab": {
      "provenance": []
    },
    "kernelspec": {
      "name": "python3",
      "display_name": "Python 3"
    },
    "language_info": {
      "name": "python"
    }
  },
  "cells": [
    {
      "cell_type": "code",
      "execution_count": 8,
      "metadata": {
        "colab": {
          "base_uri": "https://localhost:8080/"
        },
        "id": "doK4Q6ips0iD",
        "outputId": "40dfed57-895e-4bd6-ba3f-f9710a37f508"
      },
      "outputs": [
        {
          "output_type": "stream",
          "name": "stdout",
          "text": [
            "Enter a string value hello\n",
            "h =  1\n",
            "e =  2\n",
            "l =  3\n",
            "l =  4\n",
            "o =  5\n"
          ]
        }
      ],
      "source": [
        "#QN1\n",
        "a= input('Enter a string value ')\n",
        "n=len(a)\n",
        "\n",
        "for i in range(0,n):\n",
        "  print(a[i], '= ',i+1)"
      ]
    },
    {
      "cell_type": "code",
      "source": [
        "#QN2\n",
        "a=float(input('Enter the first number '))\n",
        "b=float(input('Enter the second number '))\n",
        "c=float(input('Enter the third number '))\n",
        "\n",
        "if (a>b):\n",
        "  if(a>c):\n",
        "    print(a,\" is the largest number\")\n",
        "  else:\n",
        "    print(c,\" is the largest number\")\n",
        "elif(b>c):\n",
        "  print(b,\" is the largest number\")\n",
        "else:\n",
        "  print(c,\" is the largest number\")\n"
      ],
      "metadata": {
        "colab": {
          "base_uri": "https://localhost:8080/"
        },
        "id": "xO8qoe45u5nZ",
        "outputId": "7157b48d-eecc-4afe-8786-1c4baba24123"
      },
      "execution_count": 9,
      "outputs": [
        {
          "output_type": "stream",
          "name": "stdout",
          "text": [
            "Enter the first number 34\n",
            "Enter the second number 12\n",
            "Enter the third number 7\n",
            "34.0  is the largest number\n"
          ]
        }
      ]
    },
    {
      "cell_type": "code",
      "source": [
        "#QN3\n",
        "def exponent(base,exp):\n",
        "  a= base**exp\n",
        "  return a\n",
        "\n",
        "base=int(input('Enter the base value '))\n",
        "exp=int(input('Enter the power '))\n",
        "\n",
        "ans=exponent(base,exp)\n",
        "\n",
        "print(base,' raised to the power ',exp,' is ', ans)"
      ],
      "metadata": {
        "colab": {
          "base_uri": "https://localhost:8080/"
        },
        "id": "512BmRz8vxOS",
        "outputId": "a3811484-882a-4cce-8485-37dee626f06e"
      },
      "execution_count": 38,
      "outputs": [
        {
          "output_type": "stream",
          "name": "stdout",
          "text": [
            "Enter the base value 3\n",
            "Enter the power 3\n",
            "3  raised to the power  3  is  27\n"
          ]
        }
      ]
    },
    {
      "cell_type": "code",
      "source": [
        "#QN4\n",
        "a=int(input('Enter a positive integer '))\n",
        "sum=0\n",
        "\n",
        "for i in range(1,a):\n",
        "  sum= sum+i**3\n",
        "\n",
        "print('Sum of the cube of all the positive integers smaller than',a,' is ',sum)"
      ],
      "metadata": {
        "colab": {
          "base_uri": "https://localhost:8080/"
        },
        "id": "lFpBGPa7w5nQ",
        "outputId": "53c5feaa-ba10-4f10-b29f-4e529e6f4886"
      },
      "execution_count": 15,
      "outputs": [
        {
          "output_type": "stream",
          "name": "stdout",
          "text": [
            "Enter a positive integer 4\n",
            "Sum of the cube of all the positive integers smaller than 4  is  36\n"
          ]
        }
      ]
    },
    {
      "cell_type": "code",
      "source": [
        "#QN5\n",
        "for i in range(1,11):\n",
        "  if(i%2==0) and (i%5==0):\n",
        "    print('FizzBuzz',end=' ')\n",
        "  elif(i%2==0):\n",
        "    print('Fizz',end=' ')\n",
        "  elif(i%5==0):\n",
        "    print('Buzz',end=' ')\n",
        "  else:\n",
        "    print(i,end=' ')"
      ],
      "metadata": {
        "colab": {
          "base_uri": "https://localhost:8080/"
        },
        "id": "HmOxco5kxvTO",
        "outputId": "4ccbe041-49ab-4823-f474-b78330625b11"
      },
      "execution_count": 19,
      "outputs": [
        {
          "output_type": "stream",
          "name": "stdout",
          "text": [
            "1 Fizz 3 Fizz Buzz Fizz 7 Fizz 9 FizzBuzz "
          ]
        }
      ]
    },
    {
      "cell_type": "code",
      "source": [
        "#QN6\n",
        "a=[2,3,4,2,5,2]\n",
        "maxi=max(set(a),key=a.count)\n",
        "print(maxi)"
      ],
      "metadata": {
        "colab": {
          "base_uri": "https://localhost:8080/"
        },
        "id": "Ynh4RI7WzUjM",
        "outputId": "3ee96686-f239-4f17-9487-661496ee83ea"
      },
      "execution_count": 36,
      "outputs": [
        {
          "output_type": "stream",
          "name": "stdout",
          "text": [
            "2\n"
          ]
        }
      ]
    },
    {
      "cell_type": "code",
      "source": [
        "#QN7\n",
        "a=[2,1,3,1]\n",
        "sum=0\n",
        "while(len(a)>0):\n",
        "  sum=sum+(a.pop()**2)\n",
        "\n",
        "print('Sum of squares of the numbers in the list is ',sum)"
      ],
      "metadata": {
        "colab": {
          "base_uri": "https://localhost:8080/"
        },
        "id": "1KjIbj5tzoIM",
        "outputId": "e527dc3a-9aea-47b8-d900-7e0a219d2f52"
      },
      "execution_count": 21,
      "outputs": [
        {
          "output_type": "stream",
          "name": "stdout",
          "text": [
            "Sum of squares of the numbers in the list is  15\n"
          ]
        }
      ]
    },
    {
      "cell_type": "code",
      "source": [
        "#QN8\n",
        "for i in range(1,16):\n",
        "  if(i%2!=0):\n",
        "    print(i,'-odd',end=' ')\n",
        "  else:\n",
        "    print(i,'-even',end=' ')"
      ],
      "metadata": {
        "colab": {
          "base_uri": "https://localhost:8080/"
        },
        "id": "kdaf2j_n0Ru7",
        "outputId": "12dcbeac-fb22-4dc8-ccfb-2c1df20842ee"
      },
      "execution_count": 24,
      "outputs": [
        {
          "output_type": "stream",
          "name": "stdout",
          "text": [
            "1 -odd 2 -even 3 -odd 4 -even 5 -odd 6 -even 7 -odd 8 -even 9 -odd 10 -even 11 -odd 12 -even 13 -odd 14 -even 15 -odd "
          ]
        }
      ]
    },
    {
      "cell_type": "code",
      "source": [
        "#QN9\n",
        "def f_c(c):\n",
        "  f=(c*9/5)+32\n",
        "  return f\n",
        "\n",
        "def c_f(f):\n",
        "  c=(f-32)*5/9\n",
        "  return c\n",
        "\n",
        "a=input('Enter if you want to convert from C or F ').upper()\n",
        "conv=0\n",
        "if(a=='C'):\n",
        "  c=float(input('Enter the value in celsius '))\n",
        "  conv=f_c(c)\n",
        "  print(c,' degree celsius is ',conv,' degree fahrenheit')\n",
        "elif(a=='F'):\n",
        "  f=float(input('Enter the value in fahrenheit '))\n",
        "  conv=c_f(f)\n",
        "  print(f,' degree fahrenheit is ',conv,' degree celsius')"
      ],
      "metadata": {
        "colab": {
          "base_uri": "https://localhost:8080/"
        },
        "id": "Hl1Lb4EU1NYS",
        "outputId": "01b0e87f-5ece-4110-df6c-c7c5bcc615f0"
      },
      "execution_count": 33,
      "outputs": [
        {
          "output_type": "stream",
          "name": "stdout",
          "text": [
            "Enter if you want to convert from C or F f\n",
            "Enter the value in fahrenheit 41\n",
            "41.0  degree fahrenheit is  5.0  degree celsius\n"
          ]
        }
      ]
    },
    {
      "cell_type": "code",
      "source": [
        "#QN10\n",
        "a=1\n",
        "n=int(input('Enter the number '))\n",
        "for i in range(1,n+1):\n",
        "  a=a*i\n",
        "\n",
        "print('The factorial of ',n,' is ',a)"
      ],
      "metadata": {
        "colab": {
          "base_uri": "https://localhost:8080/"
        },
        "id": "3-uAP87-40lU",
        "outputId": "47e43543-3d31-4869-9fba-e39da86ec5ac"
      },
      "execution_count": 35,
      "outputs": [
        {
          "output_type": "stream",
          "name": "stdout",
          "text": [
            "Enter the number 3\n",
            "The factorial of  3  is  6\n"
          ]
        }
      ]
    }
  ]
}